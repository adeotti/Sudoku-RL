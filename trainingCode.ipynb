{
  "cells": [
    {
      "cell_type": "markdown",
      "metadata": {
        "colab_type": "text",
        "id": "view-in-github"
      },
      "source": [
        "<a href=\"https://colab.research.google.com/github/adeotti/sudoku-env/blob/main/M9.ipynb\" target=\"_parent\"><img src=\"https://colab.research.google.com/assets/colab-badge.svg\" alt=\"Open In Colab\"/></a>"
      ]
    },
    {
      "cell_type": "code",
      "execution_count": 35,
      "metadata": {
        "id": "_VxUuPOyB90G"
      },
      "outputs": [],
      "source": [
        "# python version 3.9.11 \n",
        "%pip install numpy==1.25.2 tensorboard==2.17.0 torchrl==0.4.0 gymnasium==0.29.1 tensordict==0.4.0\n",
        "\n",
        "from IPython.display import clear_output\n",
        "def clear():\n",
        "  clear_output(wait=False)\n",
        "\n",
        "import numpy as np\n",
        "from dataclasses import dataclass\n",
        "import math,sys \n",
        "import torch\n",
        "\n",
        "clear()"
      ]
    },
    {
      "cell_type": "code",
      "execution_count": 36,
      "metadata": {},
      "outputs": [],
      "source": [
        "easyBoard = torch.tensor([\n",
        "    [0, 0, 0, 5, 3, 1, 0, 0, 0],\n",
        "    [0, 0, 0, 0, 4, 0, 3, 0, 1],\n",
        "    [1, 0, 0, 8, 0, 0, 0, 0, 0],\n",
        "    [0, 0, 4, 0, 0, 5, 6, 0, 0],\n",
        "    [0, 0, 3, 9, 0, 2, 1, 4, 0],\n",
        "    [6, 1, 5, 0, 7, 0, 0, 9, 8],\n",
        "    [0, 2, 0, 0, 9, 6, 0, 1, 0],\n",
        "    [0, 5, 7, 2, 0, 8, 0, 0, 6],\n",
        "    [0, 6, 1, 7, 5, 3, 0, 2, 4]])\n",
        "\n",
        "solution = torch.tensor([\n",
        "    [8, 4, 9, 5, 3, 1, 7, 6, 2],\n",
        "    [5, 7, 2, 6, 4, 9, 3, 8, 1],\n",
        "    [1, 3, 6, 8, 2, 7, 4, 5, 9],\n",
        "    [2, 9, 4, 1, 8, 5, 6, 7, 3],\n",
        "    [7, 8, 3, 9, 6, 2, 1, 4, 5],\n",
        "    [6, 1, 5, 3, 7, 4, 2, 9, 8],\n",
        "    [3, 2, 8, 7, 9, 5, 1, 6, 7],\n",
        "    [4, 5, 7, 2, 1, 8, 9, 3, 6],\n",
        "    [9, 6, 1, 7, 5, 3, 8, 2, 4]])"
      ]
    },
    {
      "cell_type": "code",
      "execution_count": 37,
      "metadata": {
        "id": "lGSDUcbPH4KM"
      },
      "outputs": [],
      "source": [
        "from dataclasses import dataclass\n",
        "\n",
        "@dataclass(frozen=True)\n",
        "class Board_specs:\n",
        "  size: tuple = (9,9)\n",
        "  low: int = 1\n",
        "  high: int = 9\n",
        "\n",
        "def Board():\n",
        "  matrix = easyBoard\n",
        "  return matrix\n",
        "\n",
        "def Region_Split(matrix):\n",
        "  # Extract the 3X3 regions\n",
        "    ZERO = 0 ; CONST = 3 ; MAX_COLUMN_END = 12\n",
        "    row_start = col_start = ZERO\n",
        "    row_end = col_end = CONST\n",
        "    subgrid = []\n",
        "    while len(subgrid) < len(matrix) :\n",
        "        subgrid.append([row[col_start:col_end] for row in matrix[row_start:row_end]])\n",
        "        col_start += CONST\n",
        "        col_end += CONST\n",
        "        if col_end == MAX_COLUMN_END :\n",
        "            col_start = ZERO\n",
        "            col_end = CONST\n",
        "            row_start += CONST\n",
        "            row_end += CONST\n",
        "    assert len(subgrid) == len(matrix)\n",
        "    subgrid = [torch.concatenate(line) for line in subgrid]\n",
        "    return subgrid"
      ]
    },
    {
      "cell_type": "code",
      "execution_count": 38,
      "metadata": {
        "id": "A8GSYA58P6SD"
      },
      "outputs": [],
      "source": [
        "class Game:\n",
        "    def __init__(self,action = None):\n",
        "        self.board = Board()\n",
        "        self.action = action\n",
        "\n",
        "        self.modifiableCells = []\n",
        "        \n",
        "        for i,x in enumerate(self.board):\n",
        "            for y in range(Board_specs.high):\n",
        "                if x[y] == 0:\n",
        "                    self.modifiableCells.append((i,y))            \n",
        "\n",
        "    def Updated_board(self):\n",
        "        if self.action is not None:\n",
        "            self.action = self.action.int()#.tolist()[0] #tensor([[0, 1, 0]], dtype=torch.int32)\n",
        "            row,column,value = self.action[0]\n",
        "            \n",
        "            if (row,column) in self.modifiableCells:\n",
        "                self.board[row][column] = value\n",
        "                \n",
        "        return self.board,self.action"
      ]
    },
    {
      "cell_type": "code",
      "execution_count": 39,
      "metadata": {
        "id": "K9VeBJ-ZQBjj"
      },
      "outputs": [],
      "source": [
        "class Util:\n",
        "    @classmethod\n",
        "    def Utilities(cls,gameinstance):\n",
        "        if gameinstance is None :\n",
        "            sys.exit(f\"{cls.__name__} : No Game instance was provided\")\n",
        "        cls.upd_matrix,cls.action = gameinstance.Updated_board()\n",
        "\n",
        "        # TODO : just transpose the matrix then ylist will be easy to implement\n",
        "        cls.y_list = [[col[y_index] for col in cls.upd_matrix] for y_index in range(Board_specs.high)]\n",
        "        cls.y = [line for line in torch.t(cls.upd_matrix)]\n",
        "        cls.subgrid = Region_Split(cls.upd_matrix)\n",
        "        cls.subgrid = [arr.tolist() for arr in cls.subgrid]\n",
        "\n",
        "    @staticmethod\n",
        "    def unique(lisst):\n",
        "        return len(lisst) == len(set(lisst))\n",
        "\n",
        "    @staticmethod\n",
        "    def len_dif(lisst):\n",
        "        return len(lisst) - len(set(lisst))\n",
        "    "
      ]
    },
    {
      "cell_type": "markdown",
      "metadata": {},
      "source": [
        "Reward Function "
      ]
    },
    {
      "cell_type": "code",
      "execution_count": 40,
      "metadata": {
        "id": "tOk1m0EZQKX2"
      },
      "outputs": [],
      "source": [
        "class boardConflicts: # Heuristic component\n",
        "\n",
        "    previous_conflicts = 0\n",
        "\n",
        "    def __init__(self,instance):\n",
        "        Util.Utilities(instance)\n",
        "        self.conflicts = 0\n",
        "        self.previous_conflicts = 0\n",
        "        self.reward_H = 0\n",
        "\n",
        "    def count(self):\n",
        "        for line in Util.upd_matrix:\n",
        "            if not Util.unique(line) : self.conflicts += Util.len_dif(line)\n",
        "        for col in Util.y_list:\n",
        "            if not Util.unique(col) : self.conflicts += Util.len_dif(col)\n",
        "        for submatrix in Util.subgrid:\n",
        "            if not Util.unique(submatrix) : self.conflicts += Util.len_dif(submatrix)\n",
        "        # H value\n",
        "        if self.conflicts < self.previous_conflicts:\n",
        "            self.reward_H = 2\n",
        "        boardConflicts.previous_conflicts = self.conflicts\n",
        "        return self.reward_H\n",
        "    \n",
        "\n",
        "\n",
        "class rewardFunction:\n",
        "    def __init__(self,instance):\n",
        "        Util.Utilities(instance)\n",
        "        self.action = Util.action\n",
        "        self.matrix = Util.upd_matrix\n",
        "        self.y_list = Util.y_list\n",
        "        self.reward = 0\n",
        "\n",
        "    def rewardReturns(self):\n",
        "        if self.action is None :\n",
        "            sys.exit(f\"{self.__class__.__name__} : Action is None\")\n",
        "        \n",
        "        if isinstance(self.action,torch.Tensor):\n",
        "            self.action = self.action.tolist()[0]\n",
        "        # x\n",
        "        x = self.matrix[self.action[0]]#; assert len(x) == Board_specs.high\n",
        "        self.reward += 9 if (Util.len_dif(x) == 0) else - Util.len_dif(x)\n",
        "        # y\n",
        "        y_index = self.action[1]\n",
        "        y = self.y_list[y_index]; assert len(y) == Board_specs.high\n",
        "        self.reward += 9 if (Util.len_dif(y) == 0) else -Util.len_dif(y)\n",
        "        # region\n",
        "        n = int(math.sqrt(Board_specs.high))\n",
        "        ix,iy = (self.action[0]//n)* n , (self.action[1]//n)* n\n",
        "        region = torch.flatten(self.matrix[ix:ix+n , iy:iy+n])\n",
        "        assert len(region) == Board_specs.high\n",
        "        self.reward += 9 if (Util.len_dif(region) == 0) else  -Util.len_dif(region)\n",
        "        return self.reward\n"
      ]
    },
    {
      "cell_type": "code",
      "execution_count": 41,
      "metadata": {
        "id": "Rjuo5ittQZfI"
      },
      "outputs": [],
      "source": [
        "def gameEnd(instance):\n",
        "    Util.Utilities(instance)\n",
        "    matrix = Util.upd_matrix\n",
        "    return torch.equal(solution,matrix)"
      ]
    },
    {
      "cell_type": "markdown",
      "metadata": {},
      "source": [
        "Environment"
      ]
    },
    {
      "cell_type": "code",
      "execution_count": 42,
      "metadata": {},
      "outputs": [],
      "source": [
        "from torchrl.envs import EnvBase\n",
        "from torchrl.data import BoundedTensorSpec,CompositeSpec\n",
        "from tensordict import TensorDictBase,TensorDict\n",
        "\n",
        "class environment(EnvBase):\n",
        "    def __init__(self):\n",
        "        super().__init__()\n",
        "        \n",
        "        self.action = None\n",
        "        self.game = Game(self.action)\n",
        "        self.updatedBoard,_ = self.game.Updated_board()\n",
        "\n",
        "        # specs\n",
        "        self.action_spec = BoundedTensorSpec(\n",
        "            low=torch.tensor([0,0,1]),\n",
        "            high=torch.tensor([9,9,9]),\n",
        "            shape=(3,),\n",
        "            dtype=torch.int\n",
        "        )\n",
        "\n",
        "        self.observation_format = BoundedTensorSpec(\n",
        "            low=1.0,\n",
        "            high=9.0,\n",
        "            shape=(easyBoard).unsqueeze(0).shape,\n",
        "            dtype=torch.float32\n",
        "            )\n",
        "        self.observation_spec = CompositeSpec(observation = self.observation_format) \n",
        "        \n",
        "    def _step(self,tensordict) -> TensorDictBase :\n",
        "        self.action = tensordict[\"action\"]\n",
        "        self.updated,_ = Game(self.action).Updated_board()\n",
        "\n",
        "        self.game = Game(self.action)\n",
        "        reward = rewardFunction(self.game).rewardReturns()\n",
        "\n",
        "        output = TensorDict({\"observation\" : torch.tensor(self.updatedBoard).unsqueeze(0).float(),\n",
        "                             \"reward\" : torch.tensor(reward),\n",
        "                             \"done\" : gameEnd(self.game)})\n",
        "        return output\n",
        "        \n",
        "    def _reset(self,tensordict = None,**kwargs) -> TensorDictBase :\n",
        "        output = TensorDict({\"observation\" : torch.tensor(self.updatedBoard).unsqueeze(0).float()})\n",
        "        return output\n",
        "\n",
        "    def _set_seed(self):\n",
        "        pass"
      ]
    },
    {
      "cell_type": "code",
      "execution_count": 43,
      "metadata": {
        "colab": {
          "base_uri": "https://localhost:8080/"
        },
        "id": "49Mmh6rSNIIe",
        "outputId": "94c5da36-583b-4f5b-e402-6d941992511d"
      },
      "outputs": [],
      "source": [
        "from tqdm import tqdm\n",
        "from collections import deque\n",
        "\n",
        "import torch.nn as nn\n",
        "import torch.nn.functional as F\n",
        "from torch.distributions import OneHotCategorical\n",
        "\n",
        "from tensordict.nn import TensorDictModule\n",
        "\n",
        "from torchrl.modules import ValueOperator,ProbabilisticActor\n",
        "from torchrl.objectives.value import GAE\n",
        "from torchrl.objectives import ClipPPOLoss\n",
        "\n",
        "from torchrl.collectors import SyncDataCollector\n",
        "from torchrl.data import ReplayBuffer,SamplerWithoutReplacement,LazyTensorStorage\n",
        "\n",
        "from torch.utils.tensorboard import SummaryWriter"
      ]
    },
    {
      "cell_type": "code",
      "execution_count": 44,
      "metadata": {},
      "outputs": [
        {
          "name": "stderr",
          "output_type": "stream",
          "text": [
            "C:\\Users\\14385\\AppData\\Local\\Temp\\ipykernel_3140\\2432025327.py:42: UserWarning: To copy construct from a tensor, it is recommended to use sourceTensor.clone().detach() or sourceTensor.clone().detach().requires_grad_(True), rather than torch.tensor(sourceTensor).\n",
            "  output = TensorDict({\"observation\" : torch.tensor(self.updatedBoard).unsqueeze(0).float()})\n"
          ]
        }
      ],
      "source": [
        "device = torch.device(\"cuda\" if torch.cuda.is_available() else \"cpu\")\n",
        "\n",
        "# Hypers\n",
        "l_rate = 0.01\n",
        "sdg_momentum = 0.9\n",
        "\n",
        "frames =  10             # number of steps\n",
        "sub_frame = 5              # for the most inner loop of the training step\n",
        "total_frames = 20      # maximum steps\n",
        "epochs = 10\n",
        "\n",
        "gamma = 0.80\n",
        "lmbda = 0.99\n",
        "\n",
        "env = environment()\n",
        "\n",
        "dummy_observation = env._reset()[\"observation\"].unsqueeze(0)\n",
        "action_spec = tuple(env.action_spec.shape) # (3,9)\n",
        "action_dist = env.action_spec.shape.numel() # 27\n",
        "size = torch.flatten(dummy_observation).shape.numel() # 81\n",
        "\n",
        "\n",
        "@torch.no_grad()\n",
        "def weights_init(w):\n",
        "  if isinstance(w,(nn.Conv2d,nn.LazyConv2d,nn.LazyLinear)):\n",
        "    nn.init.kaiming_uniform(w.weight,mode=\"fan_in\",nonlinearity=\"relu\")\n",
        "    if w.bias is not None : nn.init.zeros_(w.bias)\n",
        "\n",
        "def Network_util(network : nn.Module):\n",
        "  network.to(device)\n",
        "  network.forward(dummy_observation)\n",
        "  network.apply(weights_init)\n",
        "  return network"
      ]
    },
    {
      "cell_type": "code",
      "execution_count": 45,
      "metadata": {
        "id": "g3Sw6-yR8kH4"
      },
      "outputs": [],
      "source": [
        "class ActorNetwork(nn.Module):\n",
        "  def __init__(self):\n",
        "    super().__init__()\n",
        "    self.size = size\n",
        "    self.action_dist = action_dist\n",
        "    self.action_spec = action_spec\n",
        "\n",
        "    self.input_layer = nn.LazyLinear(81)\n",
        "    self.flat = nn.Flatten()\n",
        "    self.dense_one = nn.LazyLinear(self.size)\n",
        "    self.dense_two = nn.LazyLinear(self.size)\n",
        "    self.output = nn.LazyLinear(self.action_dist)\n",
        "\n",
        "  def forward(self,x):\n",
        "    x = self.flat(x)\n",
        "    x = F.relu(self.input_layer(x))\n",
        "    x = F.relu(self.dense_one(x))\n",
        "    x = F.relu(self.dense_two(x))\n",
        "    x = F.relu(self.output(x))\n",
        "    x = torch.unflatten(x,-1,(self.action_spec))\n",
        "    x = F.softmax(x,-1)\n",
        "    return x  \n",
        "  \n",
        "ActorNetwork().forward(dummy_observation)\n",
        "Policy = TensorDictModule(module=ActorNetwork(), in_keys=[\"observation\"],out_keys=[\"probs\"])\n",
        "PolicyModule = ProbabilisticActor(module=Policy ,spec=env.action_spec,in_keys=[\"probs\"],\n",
        "                       distribution_class = OneHotCategorical,return_log_prob = True)\n",
        " "
      ]
    },
    {
      "cell_type": "code",
      "execution_count": 46,
      "metadata": {},
      "outputs": [],
      "source": [
        "Memory = ReplayBuffer(storage=LazyTensorStorage(max_size=frames),sampler=SamplerWithoutReplacement())\n",
        "Collector = SyncDataCollector(create_env_fn=env,policy=PolicyModule,frames_per_batch=frames,total_frames=total_frames)\n",
        "Collector.rollout()\n",
        "clear()"
      ]
    },
    {
      "cell_type": "code",
      "execution_count": 47,
      "metadata": {
        "id": "S3nLd6x1AnDs"
      },
      "outputs": [],
      "source": [
        "class ValueNetwork(nn.Module):\n",
        "  def __init__(self):\n",
        "    super().__init__()\n",
        "    self.size = size\n",
        "    self.action_dist = action_dist\n",
        "    self.action_spec = action_spec\n",
        "\n",
        "    self.input_layer = nn.LazyLinear(self.size)\n",
        "    self.flat = nn.Flatten()\n",
        "    self.dense_one = nn.LazyLinear(self.size)\n",
        "    self.dense_two = nn.LazyLinear(self.size)\n",
        "    self.output = nn.LazyLinear(1)\n",
        "\n",
        "  def forward(self,x):\n",
        "    x = self.flat(x)\n",
        "    x = F.relu(self.input_layer(x))\n",
        "    x = F.relu(self.dense_one(x))\n",
        "    x = F.relu(self.dense_two(x))\n",
        "    return self.output(x)\n",
        "\n",
        "Critic = Network_util(network=ValueNetwork())\n",
        "\n",
        "ValueModule = ValueOperator(module= Critic,in_keys=[\"observation\"])\n",
        "Advantage = GAE(gamma=gamma,lmbda=lmbda,value_network=ValueModule,average_gae=True,device=device)"
      ]
    },
    {
      "cell_type": "code",
      "execution_count": 48,
      "metadata": {
        "id": "T2tbJ05hLlkR"
      },
      "outputs": [],
      "source": [
        "loss = ClipPPOLoss(actor_network=PolicyModule,critic_network=ValueModule)\n",
        "optimizer = torch.optim.SGD(params=loss.parameters(),lr=l_rate,momentum=sdg_momentum )"
      ]
    },
    {
      "cell_type": "markdown",
      "metadata": {},
      "source": [
        "Training loop"
      ]
    },
    {
      "cell_type": "code",
      "execution_count": 49,
      "metadata": {
        "id": "lMo6CiGGLZco"
      },
      "outputs": [],
      "source": [
        "class Training:\n",
        "    def __init__(self):\n",
        "        self.policy = ActorNetwork()\n",
        "        self.collector = Collector\n",
        "        self.memory = Memory\n",
        "        self.valuemodule = ValueModule\n",
        "        self.advantage = Advantage\n",
        "        self.lossfunction = loss\n",
        "        self.optimizer = optimizer\n",
        "        self.epochs = epochs\n",
        "\n",
        "    def save_logs(self):\n",
        "            log_dir = \"/trainingData/\"  \n",
        "            self.writer = SummaryWriter(log_dir)\n",
        "\n",
        "    def save_weight(self):\n",
        "        path = \"/trainingData/actor_200k.pth\"  \n",
        "        torch.save(self.policy.state_dict(),path)\n",
        "    \n",
        "    def fullyTrainedmodel(self):\n",
        "        path = \"/trainingData/fullyTrainedmodel.pth\"\n",
        "\n",
        "    def train(self,start : bool = None):\n",
        "        if start:\n",
        "            bestReward = -10\n",
        "            rewardHistory = deque(maxlen = 10)\n",
        "            self.save_logs()\n",
        "            for i,data_tensordict in tqdm(enumerate(self.collector),total = total_frames/frames):\n",
        "\n",
        "                for e in range(self.epochs):\n",
        "                    dat = self.advantage(data_tensordict)\n",
        "                    dat[\"advantage\"] = dat[\"advantage\"].unsqueeze(-1)\n",
        "                    self.memory.extend(dat)\n",
        "\n",
        "                    for n in range(total_frames//sub_frame):\n",
        "                        subdata = Memory.sample(sub_frame)\n",
        "                        loss_val = self.lossfunction(subdata.to(device))\n",
        "                        loss_value = (loss_val[\"loss_objective\"] + loss_val[\"loss_critic\"] + loss_val[\"loss_entropy\"])\n",
        "                        reward = data_tensordict[\"next\"][\"reward\"][0].mean().item()\n",
        "                        loss_value.backward()\n",
        "                        self.optimizer.step()\n",
        "                        self.optimizer.zero_grad()\n",
        "\n",
        "                self.writer.add_scalar(\"main/batch_number\",i)\n",
        "                self.writer.add_scalar(\"main/Advantage\",dat[\"advantage\"][0].item())\n",
        "                self.writer.add_scalar(\"main/Loss_sum\",loss_value.item())\n",
        "                self.writer.add_scalar(\"main/reward\",data_tensordict[\"next\"][\"reward\"][0].mean().item())\n",
        "                self.writer.add_scalar(\"main/reward_advantage\",dat[\"next\"][\"reward\"][0].mean().item())\n",
        "                self.writer.add_scalar(\"loss/Loss_entropy\",loss_val[\"loss_entropy\"].item())\n",
        "                self.writer.add_scalar(\"loss/Loss_critic\",loss_val[\"loss_critic\"].item())\n",
        "                self.writer.add_scalar(\"loss/Loss_objective\",loss_val[\"loss_objective\"].item())\n",
        "\n",
        "                currentReward = data_tensordict[\"next\"][\"reward\"][0].mean()\n",
        "                rewardHistory.append(currentReward)\n",
        "                averageReward = sum(rewardHistory)/len(rewardHistory)\n",
        "\n",
        "                if i % 10 == 0:\n",
        "                  if averageReward > bestReward:\n",
        "                    self.save_weight()\n",
        "                    bestReward = averageReward\n",
        "\n",
        "                self.fullyTrainedmodel()"
      ]
    },
    {
      "cell_type": "code",
      "execution_count": 50,
      "metadata": {
        "colab": {
          "base_uri": "https://localhost:8080/"
        },
        "id": "evzBJgPJnml1",
        "outputId": "afb8ac85-341b-4b30-858f-32c2cac057ed"
      },
      "outputs": [
        {
          "name": "stderr",
          "output_type": "stream",
          "text": [
            "  0%|          | 0/2.0 [00:00<?, ?it/s]C:\\Users\\14385\\AppData\\Local\\Temp\\ipykernel_3140\\2432025327.py:36: UserWarning: To copy construct from a tensor, it is recommended to use sourceTensor.clone().detach() or sourceTensor.clone().detach().requires_grad_(True), rather than torch.tensor(sourceTensor).\n",
            "  output = TensorDict({\"observation\" : torch.tensor(self.updatedBoard).unsqueeze(0).float(),\n",
            "100%|██████████| 2/2.0 [00:02<00:00,  1.08s/it]\n"
          ]
        }
      ],
      "source": [
        "Training().train(start=True)"
      ]
    }
  ],
  "metadata": {
    "colab": {
      "authorship_tag": "ABX9TyO+jAeQFBuHrZI2VDVdbRVk",
      "include_colab_link": true,
      "mount_file_id": "1_lC2ngW2272azpP9OPB1SB9FRya0fTmE",
      "provenance": []
    },
    "kernelspec": {
      "display_name": "Python 3",
      "name": "python3"
    },
    "language_info": {
      "codemirror_mode": {
        "name": "ipython",
        "version": 3
      },
      "file_extension": ".py",
      "mimetype": "text/x-python",
      "name": "python",
      "nbconvert_exporter": "python",
      "pygments_lexer": "ipython3",
      "version": "3.11.9"
    }
  },
  "nbformat": 4,
  "nbformat_minor": 0
}
