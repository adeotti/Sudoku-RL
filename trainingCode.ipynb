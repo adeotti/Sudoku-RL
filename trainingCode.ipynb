{
  "cells": [
    {
      "cell_type": "markdown",
      "metadata": {
        "colab_type": "text",
        "id": "view-in-github"
      },
      "source": [
        "<a href=\"https://colab.research.google.com/github/adeotti/sudoku-env/blob/main/M9.ipynb\" target=\"_parent\"><img src=\"https://colab.research.google.com/assets/colab-badge.svg\" alt=\"Open In Colab\"/></a>"
      ]
    },
    {
      "cell_type": "code",
      "execution_count": 1,
      "metadata": {
        "id": "_VxUuPOyB90G"
      },
      "outputs": [],
      "source": [
        "# python version 3.9.11 \n",
        "%pip install numpy==1.25.2 tensorboard==2.17.0 torchrl==0.4.0 gymnasium==0.29.1 tensordict==0.4.0\n",
        "\n",
        "from IPython.display import clear_output\n",
        "def clear():\n",
        "  clear_output(wait=False)\n",
        "\n",
        "import numpy as np\n",
        "from dataclasses import dataclass\n",
        "import math,sys\n",
        "np.random.seed(42)\n",
        "clear()"
      ]
    },
    {
      "cell_type": "markdown",
      "metadata": {},
      "source": [
        "Environment"
      ]
    },
    {
      "cell_type": "code",
      "execution_count": 2,
      "metadata": {},
      "outputs": [],
      "source": [
        "easy = np.array([\n",
        "    [0, 0, 0, 5, 3, 1, 0, 0, 0],\n",
        "    [0, 0, 0, 0, 4, 0, 3, 0, 1],\n",
        "    [1, 0, 0, 8, 0, 0, 0, 0, 0],\n",
        "    [0, 0, 4, 0, 0, 5, 6, 0, 0],\n",
        "    [0, 0, 3, 9, 0, 2, 1, 4, 0],\n",
        "    [6, 1, 5, 0, 7, 0, 0, 9, 8],\n",
        "    [0, 2, 0, 0, 9, 6, 0, 1, 0],\n",
        "    [0, 5, 7, 2, 0, 8, 0, 0, 6],\n",
        "    [0, 6, 1, 7, 5, 3, 0, 2, 4]])"
      ]
    },
    {
      "cell_type": "code",
      "execution_count": 1,
      "metadata": {
        "id": "lGSDUcbPH4KM"
      },
      "outputs": [],
      "source": [
        "from dataclasses import dataclass\n",
        "\n",
        "@dataclass(frozen=True)\n",
        "class Board_specs:\n",
        "  size: tuple = (9,9)\n",
        "  low: int = 1\n",
        "  high: int = 9\n",
        "\n",
        "def Board(specs=Board_specs):\n",
        "  matrix = easy\n",
        "  return matrix\n",
        "\n",
        "def Region_Split(matrix):\n",
        "  # Extract the 3X3 regions\n",
        "    ZERO = 0 ; CONST = 3 ; MAX_COLUMN_END = 12\n",
        "    row_start = col_start = ZERO\n",
        "    row_end = col_end = CONST\n",
        "    subgrid = []\n",
        "    while len(subgrid) < len(matrix) :\n",
        "        subgrid.append([row[col_start:col_end] for row in matrix[row_start:row_end]])\n",
        "        col_start += CONST\n",
        "        col_end += CONST\n",
        "        if col_end == MAX_COLUMN_END :\n",
        "            col_start = ZERO\n",
        "            col_end = CONST\n",
        "            row_start += CONST\n",
        "            row_end += CONST\n",
        "    assert len(subgrid) == len(matrix)\n",
        "    subgrid = [np.concatenate(line) for line in subgrid]\n",
        "    return subgrid"
      ]
    },
    {
      "cell_type": "code",
      "execution_count": 4,
      "metadata": {
        "id": "A8GSYA58P6SD"
      },
      "outputs": [],
      "source": [
        "class Game:\n",
        "\n",
        "    def __init__(self,action = None):\n",
        "        self.board = Board()\n",
        "        self.action = action\n",
        "\n",
        "        self.modifiableCells = []\n",
        "        \n",
        "        for i,x in enumerate(self.board):\n",
        "            for y in range(Board_specs.high):\n",
        "                if x[y] == 0:\n",
        "                    self.modifiableCells.append((i,y))            \n",
        "\n",
        "    def Updated_board(self):\n",
        "        if self.action is not None:\n",
        "            self.action = self.action[0] if not len(self.action)== 3 else self.action\n",
        "            row,column,value = self.action\n",
        "\n",
        "            if (row,column) in self.modifiableCells:\n",
        "                self.board[row][column] = value\n",
        "                \n",
        "        return self.board,self.action"
      ]
    },
    {
      "cell_type": "code",
      "execution_count": 5,
      "metadata": {
        "id": "K9VeBJ-ZQBjj"
      },
      "outputs": [],
      "source": [
        "class Util:\n",
        "    @classmethod\n",
        "    def Utilities(cls,gameinstance):\n",
        "        if gameinstance is None :\n",
        "            sys.exit(f\"{cls.__name__} : No Game instance was provided\")\n",
        "        cls.upd_matrix,cls.action = gameinstance.Updated_board()\n",
        "\n",
        "        # TODO : just transpose the matrix then ylist will be easy to implement\n",
        "        cls.y_list = [[col[y_index] for col in cls.upd_matrix] for y_index in range(Board_specs.high)]\n",
        "        cls.y = [line for line in cls.upd_matrix.T]\n",
        "        cls.subgrid = Region_Split(cls.upd_matrix)\n",
        "        cls.subgrid = [arr.tolist() for arr in cls.subgrid]\n",
        "\n",
        "    @staticmethod\n",
        "    def unique(lisst):\n",
        "        return len(lisst) == len(set(lisst))\n",
        "\n",
        "    @staticmethod\n",
        "    def len_dif(lisst):\n",
        "        return len(lisst) - len(set(lisst))"
      ]
    },
    {
      "cell_type": "code",
      "execution_count": 6,
      "metadata": {
        "id": "tOk1m0EZQKX2"
      },
      "outputs": [],
      "source": [
        "class boardConflicts: # Heuristic component\n",
        "\n",
        "    previous_conflicts = 0\n",
        "\n",
        "    def __init__(self,instance):\n",
        "        Util.Utilities(instance)\n",
        "        self.conflicts = 0\n",
        "        self.previous_conflicts = 0\n",
        "        self.reward_H = 0\n",
        "\n",
        "    def count(self):\n",
        "        for line in Util.upd_matrix:\n",
        "            if not Util.unique(line) : self.conflicts += Util.len_dif(line)\n",
        "        for col in Util.y_list:\n",
        "            if not Util.unique(col) : self.conflicts += Util.len_dif(col)\n",
        "        for submatrix in Util.subgrid:\n",
        "            if not Util.unique(submatrix) : self.conflicts += Util.len_dif(submatrix)\n",
        "        # H value\n",
        "        if self.conflicts < self.previous_conflicts:\n",
        "            self.reward_H = 2\n",
        "        boardConflicts.previous_conflicts = self.conflicts\n",
        "        return self.reward_H\n"
      ]
    },
    {
      "cell_type": "code",
      "execution_count": 7,
      "metadata": {
        "id": "xWP1wWC8QSDQ"
      },
      "outputs": [],
      "source": [
        "class rewardFunction:\n",
        "    # Reward function\n",
        "    def __init__(self,instance):\n",
        "        Util.Utilities(instance)\n",
        "        self.action = Util.action\n",
        "        self.matrix = Util.upd_matrix\n",
        "        self.y_list = Util.y_list\n",
        "        self.reward = 0\n",
        "        if not len(self.action)==3: action = action[0]\n",
        "        assert len(self.action)==3\n",
        "\n",
        "    def rewardReturns(self):\n",
        "        if self.action is None :\n",
        "            sys.exit(f\"{self.__class__.__name__} : Action is None\")\n",
        "        # x\n",
        "        x = self.matrix[self.action[0]]; assert len(x) == Board_specs.high\n",
        "        self.reward += 9 if (Util.len_dif(x) == 0) else - Util.len_dif(x)\n",
        "        # y\n",
        "        y_index = self.action[1]\n",
        "        y = self.y_list[y_index]; assert len(y) == Board_specs.high\n",
        "        self.reward += 9 if (Util.len_dif(y) == 0) else -Util.len_dif(y)\n",
        "        # region\n",
        "        n = int(math.sqrt(Board_specs.high))\n",
        "        ix,iy = (self.action[0]//n)* n , (self.action[1]//n)* n\n",
        "        region = np.concatenate(self.matrix[ix:ix+n , iy:iy+n])\n",
        "        assert len(region) == Board_specs.high\n",
        "        self.reward += 9 if (Util.len_dif(region) == 0) else  -Util.len_dif(region)\n",
        "        return self.reward"
      ]
    },
    {
      "cell_type": "code",
      "execution_count": 8,
      "metadata": {
        "id": "Rjuo5ittQZfI"
      },
      "outputs": [],
      "source": [
        "def gameEnd(instance):\n",
        "    Util.Utilities(instance)\n",
        "    matrix = Util.upd_matrix\n",
        "    y_list = Util.y_list\n",
        "    subgrid = Util.subgrid\n",
        "    all_uniquerow = all(Util.unique(line) for line in matrix)\n",
        "    all_uniquecol = all(Util.unique(line) for line in y_list)\n",
        "    all_unique_region = all(Util.unique(line) for line in subgrid)\n",
        "    return all_uniquerow,all_uniquecol,all_unique_region"
      ]
    },
    {
      "cell_type": "code",
      "execution_count": 9,
      "metadata": {
        "id": "Z-Xdcv_VQuWF"
      },
      "outputs": [],
      "source": [
        "import gymnasium as gym\n",
        "import gymnasium.spaces as spaces\n",
        "from gymnasium.envs.registration import register\n",
        "\n",
        "register(\n",
        "    id=\"sudoku\",\n",
        "    entry_point=\"__main__:ENVI\"\n",
        ")\n",
        "\n",
        "class ENVI(gym.Env):\n",
        "    def __init__(self):\n",
        "        super().__init__()\n",
        "        self.action = None\n",
        "        self.game = Game(None)\n",
        "        self.updated,_ = self.game.Updated_board()\n",
        "\n",
        "\n",
        "\n",
        "        self.size = Board_specs.high\n",
        "        self.action_space = spaces.Tuple((spaces.Discrete(Board_specs.high),                        # x\n",
        "                                          spaces.Discrete(Board_specs.high),                        # y\n",
        "                                          spaces.Discrete(Board_specs.high,start=Board_specs.low))) # value, start = 1\n",
        "        self.observation_space = spaces.Box(low=Board_specs.low,high=Board_specs.high,\n",
        "                                            shape=Board_specs.size,dtype=float)\n",
        "\n",
        "    def reset(self,seed = None) :\n",
        "        super().reset(seed=seed)\n",
        "        return np.float16(self.updated) ,{}\n",
        "\n",
        "    def step(self,action):\n",
        "        self.game = Game(action)\n",
        "        self.updated,_ = Game(action).Updated_board()\n",
        "\n",
        "        reward_base = rewardFunction(self.game).rewardReturns()\n",
        "        heuristic = boardConflicts(self.game).count()\n",
        "        reward = reward_base + heuristic\n",
        "        terminated_list = gameEnd(self.game)\n",
        "        terminated = (True if all(terminated_list) else False)\n",
        "\n",
        "        info = {\n",
        "            \"conflicts\" : heuristic\n",
        "        }\n",
        "        self.action = action\n",
        "        return  np.float16(self.updated),reward,terminated,False,info\n",
        "\n",
        "clear()"
      ]
    },
    {
      "cell_type": "markdown",
      "metadata": {},
      "source": [
        "Training "
      ]
    },
    {
      "cell_type": "code",
      "execution_count": 10,
      "metadata": {
        "colab": {
          "base_uri": "https://localhost:8080/"
        },
        "id": "49Mmh6rSNIIe",
        "outputId": "94c5da36-583b-4f5b-e402-6d941992511d"
      },
      "outputs": [],
      "source": [
        "from tqdm import tqdm\n",
        "from collections import deque\n",
        "\n",
        "import torch\n",
        "import torch.nn as nn\n",
        "import torch.nn.functional as F\n",
        "from torch.distributions import OneHotCategorical\n",
        "\n",
        "from tensordict.nn import TensorDictModule\n",
        "from tensordict import TensorDict\n",
        "\n",
        "from torchrl.modules import ValueOperator,ProbabilisticActor\n",
        "from torchrl.objectives.value import GAE\n",
        "from torchrl.objectives import ClipPPOLoss\n",
        "\n",
        "from torchrl.envs import TransformedEnv,GymEnv,Compose,DoubleToFloat,UnsqueezeTransform\n",
        "# data collection and manipulation\n",
        "from torchrl.collectors import SyncDataCollector\n",
        "from torchrl.data import ReplayBuffer,SamplerWithoutReplacement,LazyTensorStorage\n",
        "\n",
        "from torch.utils.tensorboard import SummaryWriter\n",
        "\n",
        "l_rate = 0.01\n",
        "sdg_momentum = 0.9\n",
        "\n",
        "frames =  1000               # number of steps\n",
        "sub_frame = 50              # for the most inner loop of the training step\n",
        "total_frames = 200_000      # maximum steps\n",
        "epochs = 10\n",
        "\n",
        "gamma = 0.80\n",
        "lmbda = 0.99\n",
        " "
      ]
    },
    {
      "cell_type": "code",
      "execution_count": 11,
      "metadata": {},
      "outputs": [],
      "source": [
        "device = torch.device(\"cuda\" if torch.cuda.is_available() else \"cpu\")\n",
        "# environnment\n",
        "base = GymEnv(\"sudoku\",device = device)\n",
        "env = TransformedEnv(base,Compose(UnsqueezeTransform(in_keys=[\"observation\"], unsqueeze_dim=0,allow_positive_dim=True),\n",
        "                                  DoubleToFloat())\n",
        ")\n",
        "dummy_observation = env.reset()[\"observation\"]\n",
        "action_spec = tuple(env.action_spec.shape) # (3,9)\n",
        "action_dist = env.action_spec.shape.numel() # 27\n",
        "size = torch.flatten(dummy_observation).shape.numel() # 81"
      ]
    },
    {
      "cell_type": "code",
      "execution_count": 12,
      "metadata": {
        "id": "RPT3FYanmR_b"
      },
      "outputs": [],
      "source": [
        "@torch.no_grad()\n",
        "def weights_init(w):\n",
        "  if isinstance(w,(nn.Conv2d,nn.LazyConv2d,nn.LazyLinear)):\n",
        "    nn.init.kaiming_uniform(w.weight,mode=\"fan_in\",nonlinearity=\"relu\")\n",
        "    if w.bias is not None : nn.init.zeros_(w.bias)\n",
        "\n",
        "def Network_util(network : nn.Module):\n",
        "  network.to(device)\n",
        "  network.forward(dummy_observation)\n",
        "  network.apply(weights_init)\n",
        "  return network"
      ]
    },
    {
      "cell_type": "code",
      "execution_count": 13,
      "metadata": {
        "id": "-yP-jsexmTZn"
      },
      "outputs": [],
      "source": [
        "device = torch.device(\"cuda\" if torch.cuda.is_available() else \"cpu\")\n",
        "# environnment\n",
        "base = GymEnv(\"sudoku\",device = device)\n",
        "env = TransformedEnv(base,Compose(UnsqueezeTransform(in_keys=[\"observation\"], unsqueeze_dim=0,allow_positive_dim=True),\n",
        "                                  DoubleToFloat())\n",
        ")\n",
        "dummy_observation = env.reset()[\"observation\"]\n",
        "action_spec = tuple(env.action_spec.shape) # (3,9)\n",
        "action_dist = env.action_spec.shape.numel() # 27\n",
        "size = torch.flatten(dummy_observation).shape.numel() # 81"
      ]
    },
    {
      "cell_type": "code",
      "execution_count": 14,
      "metadata": {
        "id": "g3Sw6-yR8kH4"
      },
      "outputs": [],
      "source": [
        "# Actor\n",
        "class ActorNetwork(nn.Module):\n",
        "  def __init__(self):\n",
        "    super().__init__()\n",
        "    self.size = size\n",
        "    self.action_dist = action_dist\n",
        "    self.action_spec = action_spec\n",
        "\n",
        "    self.input_layer = nn.LazyLinear(81)\n",
        "    self.flat = nn.Flatten()\n",
        "    self.dense_one = nn.Linear(self.size,self.size)\n",
        "    self.dense_two = nn.Linear(self.size,self.size)\n",
        "    self.output = nn.Linear(self.size,self.action_dist)\n",
        "\n",
        "  def forward(self,x):\n",
        "    x = self.flat(x)\n",
        "    x = F.relu(self.input_layer(x))\n",
        "    #x = torch.flatten(x)\n",
        "    x = F.relu(self.dense_one(x))\n",
        "    x = F.relu(self.dense_two(x))\n",
        "    x = F.relu(self.output(x))\n",
        "    x = torch.unflatten(x,-1,(self.action_spec))\n",
        "    return F.softmax(x,-1)\n",
        "\n",
        "Network_util(ActorNetwork())\n",
        "Actor = ActorNetwork()\n",
        "Actor.load_state_dict(torch.load(\"100k_data/actor_100K.pth\"))\n",
        "PolicyModule = TensorDictModule(module=Actor, in_keys=[\"observation\"],out_keys=[\"probs\"])\n",
        "\n",
        "PolicyModule = TensorDictModule(module=Actor, in_keys=[\"observation\"],out_keys=[\"probs\"])\n",
        "PolicyModule = ProbabilisticActor(\n",
        "  module=PolicyModule, spec=env.action_spec, in_keys=[\"probs\"] ,\n",
        "  distribution_class=OneHotCategorical, return_log_prob=True\n",
        ")\n",
        "Memory = ReplayBuffer(storage=LazyTensorStorage(max_size=frames),sampler=SamplerWithoutReplacement())\n",
        "Collector = SyncDataCollector(create_env_fn=env,policy=PolicyModule,frames_per_batch=frames,total_frames=total_frames)\n",
        "Collector.rollout()\n",
        "clear()"
      ]
    },
    {
      "cell_type": "code",
      "execution_count": 15,
      "metadata": {
        "id": "S3nLd6x1AnDs"
      },
      "outputs": [],
      "source": [
        "# Critic\n",
        "class ValueNetwork(nn.Module):\n",
        "  def __init__(self):\n",
        "    super().__init__()\n",
        "    self.size = size\n",
        "    self.action_dist = action_dist\n",
        "    self.action_spec = action_spec\n",
        "\n",
        "    self.input_layer = nn.LazyLinear(self.size)\n",
        "    self.flat = nn.Flatten()\n",
        "    self.dense_one = nn.Linear(self.size,self.size)\n",
        "    self.dense_two = nn.Linear(self.size,self.size)\n",
        "    self.output = nn.Linear(self.size,1)\n",
        "\n",
        "  def forward(self,x):\n",
        "    x = self.flat(x)\n",
        "    x = F.relu(self.input_layer(x))\n",
        "    x = F.relu(self.dense_one(x))\n",
        "    x = F.relu(self.dense_two(x))\n",
        "    return self.output(x)\n",
        "\n",
        "Critic = Network_util(network=ValueNetwork())\n",
        "\n",
        "ValueModule = ValueOperator(module= Critic,in_keys=[\"observation\"])\n",
        "Advantage = GAE(gamma=gamma,lmbda=lmbda,value_network=ValueModule,average_gae=True,device=device)"
      ]
    },
    {
      "cell_type": "code",
      "execution_count": 16,
      "metadata": {
        "id": "T2tbJ05hLlkR"
      },
      "outputs": [],
      "source": [
        "loss = ClipPPOLoss(actor_network=PolicyModule,critic_network=ValueModule)\n",
        "optimizer = torch.optim.SGD(params=loss.parameters(),lr=l_rate,momentum=sdg_momentum )"
      ]
    },
    {
      "cell_type": "code",
      "execution_count": 20,
      "metadata": {
        "id": "lMo6CiGGLZco"
      },
      "outputs": [],
      "source": [
        "# @title Training\n",
        "class Training:\n",
        "    def __init__(self):\n",
        "        self.policy = ActorNetwork()\n",
        "        self.collector = Collector\n",
        "        self.memory = Memory\n",
        "        self.valuemodule = ValueModule\n",
        "        self.advantage = Advantage\n",
        "        self.lossfunction = loss\n",
        "        self.optimizer = optimizer\n",
        "        self.epochs = epochs\n",
        "\n",
        "    def save_logs(self):\n",
        "            log_dir = \"/trainingData/\"  \n",
        "            self.writer = SummaryWriter(log_dir)\n",
        "\n",
        "    def save_weight(self):\n",
        "        path = \"/trainingData/actor_200k.pth\"  \n",
        "        torch.save(self.policy.state_dict(),path)\n",
        "    \n",
        "    def fullyTrainedmodel(self):\n",
        "        path = \"/trainingData/fullyTrainedmodel.pth\"\n",
        "\n",
        "    def train(self,start : bool = None):\n",
        "        if start:\n",
        "            bestReward = -10\n",
        "            rewardHistory = deque(maxlen = 10)\n",
        "            self.save_logs()\n",
        "            for i,data_tensordict in tqdm(enumerate(self.collector),total = total_frames/frames):\n",
        "\n",
        "                for e in range(self.epochs):\n",
        "                    dat = self.advantage(data_tensordict)\n",
        "                    dat[\"advantage\"] = dat[\"advantage\"].unsqueeze(-1)\n",
        "                    self.memory.extend(dat)\n",
        "\n",
        "                    for n in range(total_frames//sub_frame):\n",
        "                        subdata = Memory.sample(sub_frame)\n",
        "                        loss_val = self.lossfunction(subdata.to(device))\n",
        "                        loss_value = (loss_val[\"loss_objective\"] + loss_val[\"loss_critic\"] + loss_val[\"loss_entropy\"])\n",
        "                        reward = data_tensordict[\"next\"][\"reward\"][0].mean().item()\n",
        "                        loss_value.backward()\n",
        "                        self.optimizer.step()\n",
        "                        self.optimizer.zero_grad()\n",
        "\n",
        "                self.writer.add_scalar(\"main/batch_number\",i)\n",
        "                self.writer.add_scalar(\"main/Advantage\",dat[\"advantage\"][0].item())\n",
        "                self.writer.add_scalar(\"main/Loss_sum\",loss_value.item())\n",
        "                self.writer.add_scalar(\"main/reward\",data_tensordict[\"next\"][\"reward\"][0].mean().item())\n",
        "                self.writer.add_scalar(\"main/reward_advantage\",dat[\"next\"][\"reward\"][0].mean().item())\n",
        "                self.writer.add_scalar(\"loss/Loss_entropy\",loss_val[\"loss_entropy\"].item())\n",
        "                self.writer.add_scalar(\"loss/Loss_critic\",loss_val[\"loss_critic\"].item())\n",
        "                self.writer.add_scalar(\"loss/Loss_objective\",loss_val[\"loss_objective\"].item())\n",
        "\n",
        "                currentReward = data_tensordict[\"next\"][\"reward\"][0].mean()\n",
        "                rewardHistory.append(currentReward)\n",
        "                averageReward = sum(rewardHistory)/len(rewardHistory)\n",
        "\n",
        "                if i % 10 == 0:\n",
        "                  if averageReward > bestReward:\n",
        "                    self.save_weight\n",
        "                    bestReward = averageReward\n",
        "\n",
        "                self.fullyTrainedmodel()\n",
        "            \n"
      ]
    },
    {
      "cell_type": "code",
      "execution_count": null,
      "metadata": {
        "colab": {
          "base_uri": "https://localhost:8080/"
        },
        "id": "evzBJgPJnml1",
        "outputId": "afb8ac85-341b-4b30-858f-32c2cac057ed"
      },
      "outputs": [],
      "source": [
        "Training().train(start=True)"
      ]
    }
  ],
  "metadata": {
    "colab": {
      "authorship_tag": "ABX9TyO+jAeQFBuHrZI2VDVdbRVk",
      "include_colab_link": true,
      "mount_file_id": "1_lC2ngW2272azpP9OPB1SB9FRya0fTmE",
      "provenance": []
    },
    "kernelspec": {
      "display_name": "Python 3",
      "name": "python3"
    },
    "language_info": {
      "name": "python"
    }
  },
  "nbformat": 4,
  "nbformat_minor": 0
}
