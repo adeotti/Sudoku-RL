{
  "cells": [
    {
      "cell_type": "code",
      "execution_count": 1,
      "metadata": {},
      "outputs": [],
      "source": [
        "from main import environment\n",
        "import random,sys,gc,warnings\n",
        "from IPython.display import clear_output\n",
        "\n",
        "import gymnasium \n",
        "from gymnasium.vector import SyncVectorEnv\n",
        "\n",
        "import torch\n",
        "import torch.nn as nn\n",
        "import torch.nn.functional as F\n",
        "from torch.distributions import Categorical\n",
        "from torch.utils.tensorboard import SummaryWriter\n",
        "\n",
        "from tqdm import tqdm"
      ]
    },
    {
      "cell_type": "code",
      "execution_count": null,
      "metadata": {},
      "outputs": [],
      "source": [
        "torch.autograd.set_detect_anomaly(True)\n",
        "warnings.filterwarnings(\"ignore\")\n",
        "\n",
        "# hypers\n",
        "batchSize = 10\n",
        "lr = 1e-4\n",
        "num_env = 3\n",
        "\n",
        "\n",
        "\n",
        "    #\n",
        "    \n",
        "env = gymnasium.make(\"sudoku\")\n",
        "env = SyncVectorEnv([lambda : env]*num_env)"
      ]
    },
    {
      "cell_type": "code",
      "execution_count": null,
      "metadata": {},
      "outputs": [],
      "source": [
        "class collector:\n",
        "    def __init__(self):\n",
        "        pass\n",
        "        \n",
        "    def rollout(self):\n",
        "        pass\n",
        "\n",
        "    def sample(self):\n",
        "        pass\n",
        "\n",
        "    def clear_memory():\n",
        "        pass"
      ]
    },
    {
      "cell_type": "code",
      "execution_count": null,
      "metadata": {},
      "outputs": [],
      "source": [
        "class mask: # altering softmax output so x and y = {0,8} and value = {1,9}\n",
        "  def __init__(self):\n",
        "    self.newValue = -float(\"inf\")\n",
        "\n",
        "  def apply(self,tensor : torch.FloatTensor):\n",
        "    self.mask = torch.zeros_like(tensor,dtype=torch.bool)\n",
        "    self.mask[0,-1] = True\n",
        "    self.mask[1,-1] = True\n",
        "    self.mask[-1,0] = True\n",
        "    tensor = tensor.masked_fill(mask=self.mask,value=self.newValue)\n",
        "    return tensor\n",
        "\n",
        "class network(nn.Module):\n",
        "  def __init__(self):\n",
        "    super().__init__()\n",
        "    self.conv1 = nn.LazyConv2d(1,(1,1))\n",
        "    self.conv2 = nn.LazyConv2d(1,(1,1))\n",
        "    self.conv3 = nn.LazyConv2d(1,(1,1))\n",
        "\n",
        "    self.linear1 = nn.LazyLinear(9)\n",
        "    self.linear2 = nn.LazyLinear(9)\n",
        "    self.linear3 = nn.LazyLinear(9)\n",
        "\n",
        "    self.policy_mask = mask()\n",
        "    self.policy_head = nn.LazyLinear(30)\n",
        "    self.value_head = nn.LazyLinear(1)\n",
        "    \n",
        "    self.optimizer = torch.optim.Adam(self.parameters(),lr=lr)\n",
        "    \n",
        "  def forward(self,x):\n",
        "    x = F.relu(self.conv1(x))\n",
        "    x = self.conv2(x)\n",
        "    x = F.relu(self.conv3(x))\n",
        "    x = torch.flatten(x,start_dim=1)\n",
        "    x = self.linear1(x)\n",
        "    x = F.relu(self.linear2(x))\n",
        "    x = self.linear3(x)\n",
        "    distibution = F.relu(self.policy_head(x)).reshape(3,10)\n",
        "    distibution = self.policy_mask.apply(distibution)\n",
        "    value = self.value_head(x)\n",
        "    return F.softmax(distibution,-1),value\n",
        "\n",
        "d = network()\n",
        "d.forward(torch.rand((1,9,9),dtype=torch.float))\n",
        "clear_output()"
      ]
    }
  ],
  "metadata": {
    "colab": {
      "authorship_tag": "ABX9TyO+jAeQFBuHrZI2VDVdbRVk",
      "include_colab_link": true,
      "mount_file_id": "1_lC2ngW2272azpP9OPB1SB9FRya0fTmE",
      "provenance": []
    },
    "kernelspec": {
      "display_name": "Python 3",
      "name": "python3"
    },
    "language_info": {
      "codemirror_mode": {
        "name": "ipython",
        "version": 3
      },
      "file_extension": ".py",
      "mimetype": "text/x-python",
      "name": "python",
      "nbconvert_exporter": "python",
      "pygments_lexer": "ipython3",
      "version": "3.11.9"
    }
  },
  "nbformat": 4,
  "nbformat_minor": 0
}
