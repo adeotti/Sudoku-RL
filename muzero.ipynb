{
  "cells": [
    {
      "cell_type": "code",
      "execution_count": null,
      "metadata": {},
      "outputs": [],
      "source": [
        "from environment import environment\n",
        "import random,sys,gc,warnings\n",
        "from IPython.display import clear_output\n",
        "\n",
        "import gymnasium \n",
        "from puzzle import easyBoard\n",
        "\n",
        "import torch\n",
        "import torch.nn as nn\n",
        "import torch.nn.functional as F\n",
        "from torch.distributions import Categorical\n",
        "from torch.utils.tensorboard import SummaryWriter\n",
        "\n",
        "from tqdm import tqdm\n",
        "torch.autograd.set_detect_anomaly(True)\n",
        "warnings.filterwarnings(\"ignore\")\n",
        "\n",
        "seed = 42\n",
        "torch.manual_seed(seed)"
      ]
    },
    {
      "cell_type": "code",
      "execution_count": null,
      "metadata": {},
      "outputs": [],
      "source": [
        "env = gymnasium.make(\"sudoku\")\n",
        "easyBoard_root = F.one_hot(easyBoard.clone().to(torch.int64),num_classes=10).to(torch.float32)\n",
        "easyBoard_root = easyBoard_root.permute(-1,0,1).unsqueeze(0) # [1,10,9,9]\n",
        "assert torch.equal(easyBoard,torch.argmax(easyBoard_root,dim=1).squeeze())"
      ]
    },
    {
      "cell_type": "code",
      "execution_count": null,
      "metadata": {},
      "outputs": [],
      "source": [
        "representation = nn.Sequential( # - > latent state, torch.Size([1,32, 1, 1])\n",
        "    nn.LazyConv2d(32,1,1,0),\n",
        "    nn.ReLU(),\n",
        "    nn.LazyConv2d(32,3,3,0),\n",
        "    nn.ReLU(),\n",
        "    nn.LazyConv2d(32,3,3,0),\n",
        "    nn.ReLU()\n",
        ")\n",
        "representation.forward(easyBoard_root) # test init \n",
        "clear_output()"
      ]
    },
    {
      "cell_type": "code",
      "execution_count": null,
      "metadata": {},
      "outputs": [],
      "source": [
        "class policy_value(nn.Module):\n",
        "    def __init__(self):\n",
        "        super().__init__()\n",
        "        \n",
        "        self.prediction = nn.Sequential(\n",
        "            nn.LazyConv2d(32,1,1,1),\n",
        "            nn.ReLU(),\n",
        "            nn.Flatten(start_dim=1), # torch.Size([1, 32])\n",
        "            nn.LazyLinear(30),\n",
        "            nn.ReLU() # torch.Size([1, 27])\n",
        "        )\n",
        "        self.value_head = nn.LazyLinear(1)\n",
        "    \n",
        "    def action_mask(self,logits: torch.Tensor):\n",
        "        # altering softmax output so x and y in {0,8} and value in {1,9}\n",
        "        assert logits.shape == torch.Size([3,10])\n",
        "        mask = torch.zeros_like(logits,dtype=torch.bool)\n",
        "        mask[0,-1] = True\n",
        "        mask[1,-1] = True\n",
        "        mask[-1,0] = True\n",
        "        return logits.masked_fill(mask=mask,value=-float(\"inf\"))\n",
        "        \n",
        "    def forward(self,x : torch.Tensor):\n",
        "       x = self.prediction(x)\n",
        "       p = self.action_mask(x.view(3,10))\n",
        "       p = F.softmax(p,dim=-1) # policy out\n",
        "       v = self.value_head(x)\n",
        "       return p,v \n",
        "\n",
        "x = representation(easyBoard_root) # test init \n",
        "policy_value().forward(x)\n",
        "clear_output()"
      ]
    },
    {
      "cell_type": "code",
      "execution_count": 70,
      "metadata": {},
      "outputs": [
        {
          "data": {
            "text/plain": [
              "(6, 9, 8)"
            ]
          },
          "execution_count": 70,
          "metadata": {},
          "output_type": "execute_result"
        }
      ],
      "source": [
        "import random\n",
        "random.randint(0,9),random.randint(0,9),random.randint(1,9)"
      ]
    },
    {
      "cell_type": "code",
      "execution_count": 3,
      "metadata": {},
      "outputs": [
        {
          "ename": "NameError",
          "evalue": "name 'nn' is not defined",
          "output_type": "error",
          "traceback": [
            "\u001b[1;31m---------------------------------------------------------------------------\u001b[0m",
            "\u001b[1;31mNameError\u001b[0m                                 Traceback (most recent call last)",
            "Cell \u001b[1;32mIn[3], line 2\u001b[0m\n\u001b[0;32m      1\u001b[0m \u001b[38;5;66;03m# takes a latent state and the high dimension action and output a reward \u001b[39;00m\n\u001b[1;32m----> 2\u001b[0m dynamic \u001b[38;5;241m=\u001b[39m \u001b[43mnn\u001b[49m\u001b[38;5;241m.\u001b[39mSequential( \n\u001b[0;32m      3\u001b[0m     nn\u001b[38;5;241m.\u001b[39mLazyConv2d(),\n\u001b[0;32m      4\u001b[0m     nn\u001b[38;5;241m.\u001b[39mReLU(),\n\u001b[0;32m      5\u001b[0m     nn\u001b[38;5;241m.\u001b[39mLazyLinear(\u001b[38;5;241m1\u001b[39m)\n\u001b[0;32m      6\u001b[0m )\n",
            "\u001b[1;31mNameError\u001b[0m: name 'nn' is not defined"
          ]
        }
      ],
      "source": [
        "# takes a latent state and the high dimension action and output a reward \n",
        "dynamic = nn.Sequential( \n",
        "    nn.LazyConv2d(),\n",
        "    nn.ReLU(),\n",
        "    nn.LazyLinear(1)\n",
        ")"
      ]
    },
    {
      "cell_type": "code",
      "execution_count": 4,
      "metadata": {},
      "outputs": [
        {
          "data": {
            "text/plain": [
              "839"
            ]
          },
          "execution_count": 4,
          "metadata": {},
          "output_type": "execute_result"
        }
      ],
      "source": [
        "import numpy as np \n",
        "\n",
        "x = np.random.randint(1,19,(9,9)).sum()\n",
        "x"
      ]
    },
    {
      "cell_type": "code",
      "execution_count": null,
      "metadata": {},
      "outputs": [],
      "source": []
    }
  ],
  "metadata": {
    "colab": {
      "authorship_tag": "ABX9TyO+jAeQFBuHrZI2VDVdbRVk",
      "include_colab_link": true,
      "mount_file_id": "1_lC2ngW2272azpP9OPB1SB9FRya0fTmE",
      "provenance": []
    },
    "kernelspec": {
      "display_name": "Python 3",
      "name": "python3"
    },
    "language_info": {
      "codemirror_mode": {
        "name": "ipython",
        "version": 3
      },
      "file_extension": ".py",
      "mimetype": "text/x-python",
      "name": "python",
      "nbconvert_exporter": "python",
      "pygments_lexer": "ipython3",
      "version": "3.11.9"
    }
  },
  "nbformat": 4,
  "nbformat_minor": 0
}
